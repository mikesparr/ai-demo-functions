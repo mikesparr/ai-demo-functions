{
 "metadata": {
  "language_info": {
   "codemirror_mode": {
    "name": "ipython",
    "version": 3
   },
   "file_extension": ".py",
   "mimetype": "text/x-python",
   "name": "python",
   "nbconvert_exporter": "python",
   "pygments_lexer": "ipython3",
   "version": "3.9.0-final"
  },
  "orig_nbformat": 2,
  "kernelspec": {
   "name": "python3",
   "display_name": "Python 3"
  }
 },
 "nbformat": 4,
 "nbformat_minor": 2,
 "cells": [
  {
   "cell_type": "code",
   "execution_count": 16,
   "metadata": {},
   "outputs": [],
   "source": [
    "# Import dependencies\n",
    "import time\n",
    "import pandas as pd\n",
    "import numpy as np\n",
    "import matplotlib.pyplot as plt\n",
    "from sklearn.model_selection import train_test_split\n",
    "from sklearn.svm import SVC\n",
    "from sklearn.metrics import classification_report, confusion_matrix"
   ]
  },
  {
   "cell_type": "code",
   "execution_count": 17,
   "metadata": {},
   "outputs": [],
   "source": [
    "# Import the dataset\n",
    "bankdata = pd.read_csv(\"bank_data.csv\")"
   ]
  },
  {
   "cell_type": "code",
   "execution_count": 18,
   "metadata": {},
   "outputs": [
    {
     "output_type": "execute_result",
     "data": {
      "text/plain": [
       "<bound method NDFrame.head of       Variance  Skewness  Curtosis  Entropy  Class\n",
       "0      3.62160   8.66610   -2.8073 -0.44699      0\n",
       "1      4.54590   8.16740   -2.4586 -1.46210      0\n",
       "2      3.86600  -2.63830    1.9242  0.10645      0\n",
       "3      3.45660   9.52280   -4.0112 -3.59440      0\n",
       "4      0.32924  -4.45520    4.5718 -0.98880      0\n",
       "...        ...       ...       ...      ...    ...\n",
       "1367   0.40614   1.34920   -1.4501 -0.55949      1\n",
       "1368  -1.38870  -4.87730    6.4774  0.34179      1\n",
       "1369  -3.75030 -13.45860   17.5932 -2.77710      1\n",
       "1370  -3.56370  -8.38270   12.3930 -1.28230      1\n",
       "1371  -2.54190  -0.65804    2.6842  1.19520      1\n",
       "\n",
       "[1372 rows x 5 columns]>"
      ]
     },
     "metadata": {},
     "execution_count": 18
    }
   ],
   "source": [
    "# Exploratory data analysis\n",
    "bankdata.shape\n",
    "bankdata.head"
   ]
  },
  {
   "cell_type": "code",
   "execution_count": 23,
   "metadata": {},
   "outputs": [],
   "source": [
    "# Data preprocessing\n",
    "X = bankdata.drop('Class', axis=1)  # X = features\n",
    "y = bankdata['Class']               # y = target (label)\n",
    "\n",
    "# divide into training and testing\n",
    "X_train, X_test, y_train, y_test = train_test_split(X, y, test_size=0.20)"
   ]
  },
  {
   "cell_type": "code",
   "execution_count": 24,
   "metadata": {},
   "outputs": [
    {
     "output_type": "execute_result",
     "data": {
      "text/plain": [
       "SVC(kernel='linear')"
      ]
     },
     "metadata": {},
     "execution_count": 24
    }
   ],
   "source": [
    "# Training the algorithm\n",
    "svclassifier = SVC(kernel='linear')\n",
    "svclassifier.fit(X_train, y_train)"
   ]
  },
  {
   "cell_type": "code",
   "execution_count": 25,
   "metadata": {},
   "outputs": [
    {
     "output_type": "stream",
     "name": "stdout",
     "text": [
      "[1 1 1 1 0 0 0 1 0 1 0 0 1 0 1 1 0 1 0 1 0 1 1 0 0 0 1 1 0 0 1 1 0 1 0 1 0\n 0 0 0 1 0 0 0 0 0 1 1 0 0 0 0 1 0 1 0 1 1 0 1 0 0 0 1 1 1 0 0 1 1 0 1 0 0\n 1 1 0 1 1 0 0 0 1 1 1 0 0 0 0 1 1 1 0 0 0 1 0 1 1 0 1 1 0 0 0 0 1 1 1 0 0\n 0 1 1 0 0 1 1 0 0 0 0 1 0 1 1 0 0 1 0 1 0 1 0 1 0 1 1 0 0 0 1 1 1 0 0 0 0\n 1 0 0 1 1 1 1 0 1 1 1 1 1 0 0 0 0 0 0 1 1 1 1 0 0 0 1 1 0 0 0 1 0 1 0 1 0\n 1 1 0 0 1 0 0 0 1 1 0 0 1 0 1 1 0 0 0 0 1 1 1 0 1 1 1 0 0 1 1 0 1 1 0 0 0\n 1 1 1 0 0 0 0 0 1 0 0 1 1 1 1 0 1 0 1 0 0 1 1 0 0 0 1 0 1 0 1 1 1 1 1 0 0\n 0 0 1 0 0 0 0 0 0 1 0 1 0 0 1 0]\n"
     ]
    }
   ],
   "source": [
    "# Predicting classes\n",
    "y_pred = svclassifier.predict(X_test)\n",
    "print(y_pred)"
   ]
  },
  {
   "cell_type": "code",
   "execution_count": 26,
   "metadata": {},
   "outputs": [
    {
     "output_type": "stream",
     "name": "stdout",
     "text": [
      "[[148   4]\n [  0 123]]\n              precision    recall  f1-score   support\n\n           0       1.00      0.97      0.99       152\n           1       0.97      1.00      0.98       123\n\n    accuracy                           0.99       275\n   macro avg       0.98      0.99      0.99       275\nweighted avg       0.99      0.99      0.99       275\n\n"
     ]
    }
   ],
   "source": [
    "# Evaluate the model\n",
    "print(confusion_matrix(y_test,y_pred))\n",
    "print(classification_report(y_test, y_pred))"
   ]
  },
  {
   "cell_type": "code",
   "execution_count": 27,
   "metadata": {},
   "outputs": [
    {
     "output_type": "execute_result",
     "data": {
      "text/plain": [
       "['mike-test1.joblib']"
      ]
     },
     "metadata": {},
     "execution_count": 27
    }
   ],
   "source": [
    "# Persist the model\n",
    "from joblib import dump, load\n",
    "dump(svclassifier, 'model.joblib')"
   ]
  },
  {
   "cell_type": "code",
   "execution_count": 28,
   "metadata": {},
   "outputs": [],
   "source": [
    "# Load the model\n",
    "myclassifier = load('model.joblib')"
   ]
  },
  {
   "cell_type": "code",
   "execution_count": 34,
   "metadata": {},
   "outputs": [
    {
     "output_type": "stream",
     "name": "stdout",
     "text": [
      "[1 1 1 1 0 0 0 1 0 1 0 0 1 0 1 1 0 1 0 1 0 1 1 0 0 0 1 1 0 0 1 1 0 1 0 1 0\n 0 0 0 1 0 0 0 0 0 1 1 0 0 0 0 1 0 1 0 1 1 0 1 0 0 0 1 1 1 0 0 1 1 0 1 0 0\n 1 1 0 1 1 0 0 0 1 1 1 0 0 0 0 1 1 1 0 0 0 1 0 1 1 0 1 1 0 0 0 0 1 1 1 0 0\n 0 1 1 0 0 1 1 0 0 0 0 1 0 1 1 0 0 1 0 1 0 1 0 1 0 1 1 0 0 0 1 1 1 0 0 0 0\n 1 0 0 1 1 1 1 0 1 1 1 1 1 0 0 0 0 0 0 1 1 1 1 0 0 0 1 1 0 0 0 1 0 1 0 1 0\n 1 1 0 0 1 0 0 0 1 1 0 0 1 0 1 1 0 0 0 0 1 1 1 0 1 1 1 0 0 1 1 0 1 1 0 0 0\n 1 1 1 0 0 0 0 0 1 0 0 1 1 1 1 0 1 0 1 0 0 1 1 0 0 0 1 0 1 0 1 1 1 1 1 0 0\n 0 0 1 0 0 0 0 0 0 1 0 1 0 0 1 0]\n0.9854545454545455\n"
     ]
    }
   ],
   "source": [
    "# Test loaded model\n",
    "new_pred = myclassifier.predict(X_test)\n",
    "print(new_pred)\n",
    "\n",
    "print(classification_report(y_test, new_pred, output_dict=True)['accuracy'])"
   ]
  },
  {
   "cell_type": "code",
   "execution_count": 30,
   "metadata": {},
   "outputs": [
    {
     "output_type": "stream",
     "name": "stdout",
     "text": [
      "      Variance  Skewness  Curtosis  Entropy\n1134   -1.7063   2.79560  -2.37800 -2.34910\n1195   -1.9725   2.88250  -2.30860 -2.37240\n928    -6.1536   7.92950   0.61663 -3.26460\n837    -6.2815   6.66510   0.52581 -7.01070\n70      3.9529  -2.35480   2.37920  0.48274\n...        ...       ...       ...      ...\n1280   -3.3553   0.35591   2.64730 -0.37846\n678     2.4673   1.39260   1.71250  0.41421\n2       3.8660  -2.63830   1.92420  0.10645\n1314   -3.5060 -12.56670  15.16060 -0.75216\n333     3.0009   5.81260  -2.23060 -0.66553\n\n[275 rows x 4 columns]\n"
     ]
    }
   ],
   "source": [
    "print(X_test)"
   ]
  },
  {
   "cell_type": "code",
   "execution_count": 31,
   "metadata": {},
   "outputs": [
    {
     "output_type": "stream",
     "name": "stdout",
     "text": [
      "   Variance  Skewness  Curtosis  Entropy\n0  -0.60975    -4.002    1.8471   0.6017\n\nResult 1                 : ['real']\nResult 2                 : ['real']\nPrediction 1 took        : 0.007296000000000191\nPrediction 2 took        : 0.001972000000000307\n"
     ]
    }
   ],
   "source": [
    "predict_start = time.process_time()\n",
    "new_classifier = load('model.joblib')\n",
    "customer = {'Variance': [-0.60975], 'Skewness': [-4.00200], 'Curtosis': [1.847100], 'Entropy': [0.60170]}\n",
    "customer_df = pd.DataFrame(customer, columns = ['Variance', 'Skewness', 'Curtosis', 'Entropy'])\n",
    "test1 = new_classifier.predict(customer_df)\n",
    "predict_stop = time.process_time()\n",
    "\n",
    "p1 = ['real' if val == 1 else 'fake' for val in test1]\n",
    "\n",
    "predict2_start = time.process_time()\n",
    "new_classifier2 = load('model.joblib')\n",
    "test2 = new_classifier2.predict(np.array([-2.16680,1.59330,0.045122,-1.67800]).reshape(1, -1))\n",
    "predict2_stop = time.process_time()\n",
    "\n",
    "p2 = ['real' if val == 1 else 'fake' for val in test2]\n",
    "\n",
    "print(customer_df)\n",
    "print()\n",
    "print(f\"{'Result 1':25}: {p1}\")\n",
    "print(f\"{'Result 2':25}: {p2}\")\n",
    "print(f\"{'Prediction 1 took':25}: {predict_stop-predict_start}\")\n",
    "print(f\"{'Prediction 2 took':25}: {predict2_stop-predict2_start}\")"
   ]
  },
  {
   "cell_type": "code",
   "execution_count": null,
   "metadata": {},
   "outputs": [],
   "source": []
  }
 ]
}