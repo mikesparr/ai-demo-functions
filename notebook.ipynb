{
 "metadata": {
  "language_info": {
   "codemirror_mode": {
    "name": "ipython",
    "version": 3
   },
   "file_extension": ".py",
   "mimetype": "text/x-python",
   "name": "python",
   "nbconvert_exporter": "python",
   "pygments_lexer": "ipython3",
   "version": "3.9.1-final"
  },
  "orig_nbformat": 2,
  "kernelspec": {
   "name": "python3",
   "display_name": "Python 3.9.1 64-bit ('env')",
   "metadata": {
    "interpreter": {
     "hash": "828bf61fd7dc916dbe30fa2205b98b041b31ddb2522ece5144780acd930a1f79"
    }
   }
  }
 },
 "nbformat": 4,
 "nbformat_minor": 2,
 "cells": [
  {
   "cell_type": "code",
   "execution_count": 1,
   "metadata": {},
   "outputs": [],
   "source": [
    "# Import dependencies\n",
    "import time\n",
    "import pandas as pd\n",
    "import numpy as np\n",
    "import matplotlib.pyplot as plt\n",
    "from sklearn.model_selection import train_test_split\n",
    "from sklearn.svm import SVC\n",
    "from sklearn.metrics import classification_report, confusion_matrix"
   ]
  },
  {
   "cell_type": "code",
   "execution_count": 5,
   "metadata": {},
   "outputs": [],
   "source": [
    "# Import the dataset\n",
    "bankdata = pd.read_csv(\"bank_data.csv\")"
   ]
  },
  {
   "cell_type": "code",
   "execution_count": 2,
   "metadata": {},
   "outputs": [],
   "source": [
    "# Import the starter dataset (expect to be less accurate)\n",
    "bankdata = pd.read_csv(\"bank_data_light.csv\")"
   ]
  },
  {
   "cell_type": "code",
   "execution_count": 8,
   "metadata": {},
   "outputs": [
    {
     "output_type": "execute_result",
     "data": {
      "text/plain": [
       "<bound method NDFrame.head of    variance  skewness  curtosis  entropy  class\n",
       "0    3.6216   8.66610   -2.8073 -0.44699      0\n",
       "1    4.5459   8.16740   -2.4586 -1.46210      0\n",
       "2    3.8660  -2.63830    1.9242  0.10645      0\n",
       "3    1.4378   0.66837   -2.0267  1.02710      1\n",
       "4    2.1943   4.55030   -4.9760 -2.72540      1\n",
       "5    0.7376   4.85250   -4.7986 -5.66590      1>"
      ]
     },
     "metadata": {},
     "execution_count": 8
    }
   ],
   "source": [
    "# Exploratory data analysis\n",
    "bankdata.shape\n",
    "bankdata.head"
   ]
  },
  {
   "cell_type": "code",
   "execution_count": 9,
   "metadata": {},
   "outputs": [],
   "source": [
    "# Data preprocessing\n",
    "X = bankdata.drop('class', axis=1)  # X = features\n",
    "y = bankdata['class']               # y = target (label)\n",
    "\n",
    "# divide into training and testing\n",
    "X_train, X_test, y_train, y_test = train_test_split(X, y, test_size=0.20)"
   ]
  },
  {
   "cell_type": "code",
   "execution_count": 10,
   "metadata": {},
   "outputs": [
    {
     "output_type": "execute_result",
     "data": {
      "text/plain": [
       "SVC(kernel='linear')"
      ]
     },
     "metadata": {},
     "execution_count": 10
    }
   ],
   "source": [
    "# Training the algorithm\n",
    "svclassifier = SVC(kernel='linear')\n",
    "svclassifier.fit(X_train, y_train)"
   ]
  },
  {
   "cell_type": "code",
   "execution_count": 11,
   "metadata": {},
   "outputs": [
    {
     "output_type": "stream",
     "name": "stdout",
     "text": [
      "[1 0]\n"
     ]
    }
   ],
   "source": [
    "# Predicting classes\n",
    "y_pred = svclassifier.predict(X_test)\n",
    "print(y_pred)"
   ]
  },
  {
   "cell_type": "code",
   "execution_count": 12,
   "metadata": {},
   "outputs": [
    {
     "output_type": "stream",
     "name": "stdout",
     "text": [
      "[[1 0]\n [0 1]]\n              precision    recall  f1-score   support\n\n           0       1.00      1.00      1.00         1\n           1       1.00      1.00      1.00         1\n\n    accuracy                           1.00         2\n   macro avg       1.00      1.00      1.00         2\nweighted avg       1.00      1.00      1.00         2\n\n"
     ]
    }
   ],
   "source": [
    "# Evaluate the model\n",
    "print(confusion_matrix(y_test,y_pred))\n",
    "print(classification_report(y_test, y_pred))"
   ]
  },
  {
   "cell_type": "code",
   "execution_count": 13,
   "metadata": {},
   "outputs": [
    {
     "output_type": "execute_result",
     "data": {
      "text/plain": [
       "['model.joblib']"
      ]
     },
     "metadata": {},
     "execution_count": 13
    }
   ],
   "source": [
    "# Persist the model\n",
    "from joblib import dump, load\n",
    "dump(svclassifier, 'model.joblib')"
   ]
  },
  {
   "cell_type": "code",
   "execution_count": 14,
   "metadata": {},
   "outputs": [
    {
     "output_type": "execute_result",
     "data": {
      "text/plain": [
       "['model_light.joblib']"
      ]
     },
     "metadata": {},
     "execution_count": 14
    }
   ],
   "source": [
    "# Persist the model\n",
    "from joblib import dump, load\n",
    "dump(svclassifier, 'model_light.joblib')"
   ]
  },
  {
   "cell_type": "code",
   "execution_count": 15,
   "metadata": {},
   "outputs": [],
   "source": [
    "# Load the model\n",
    "myclassifier = load('model.joblib')"
   ]
  },
  {
   "cell_type": "code",
   "execution_count": 16,
   "metadata": {},
   "outputs": [
    {
     "output_type": "stream",
     "name": "stdout",
     "text": [
      "[1 0]\n1.0\n"
     ]
    }
   ],
   "source": [
    "# Test loaded model\n",
    "new_pred = myclassifier.predict(X_test)\n",
    "print(new_pred)\n",
    "\n",
    "print(classification_report(y_test, new_pred, output_dict=True)['accuracy'])"
   ]
  },
  {
   "cell_type": "code",
   "execution_count": 17,
   "metadata": {},
   "outputs": [
    {
     "output_type": "stream",
     "name": "stdout",
     "text": [
      "   variance  skewness  curtosis  entropy\n4    2.1943    4.5503   -4.9760  -2.7254\n1    4.5459    8.1674   -2.4586  -1.4621\n"
     ]
    }
   ],
   "source": [
    "print(X_test)"
   ]
  },
  {
   "cell_type": "code",
   "execution_count": 18,
   "metadata": {},
   "outputs": [
    {
     "output_type": "stream",
     "name": "stdout",
     "text": [
      "   Variance  Skewness  Curtosis  Entropy\n0  -0.60975    -4.002    1.8471   0.6017\n\nResult 1                 : ['real']\nResult 2                 : ['real']\nPrediction 1 took        : 0.005993000000000137\nPrediction 2 took        : 0.002146999999999899\n"
     ]
    }
   ],
   "source": [
    "# compare processing times using Pandas or Numpy\n",
    "predict_start = time.process_time()\n",
    "new_classifier = load('model.joblib')\n",
    "customer = {'Variance': [-0.60975], 'Skewness': [-4.00200], 'Curtosis': [1.847100], 'Entropy': [0.60170]}\n",
    "customer_df = pd.DataFrame(customer, columns = ['Variance', 'Skewness', 'Curtosis', 'Entropy'])\n",
    "test1 = new_classifier.predict(customer_df)\n",
    "predict_stop = time.process_time()\n",
    "\n",
    "p1 = ['real' if val == 1 else 'fake' for val in test1]\n",
    "\n",
    "predict2_start = time.process_time()\n",
    "new_classifier2 = load('model.joblib')\n",
    "test2 = new_classifier2.predict(np.array([-2.16680,1.59330,0.045122,-1.67800]).reshape(1, -1))\n",
    "predict2_stop = time.process_time()\n",
    "\n",
    "p2 = ['real' if val == 1 else 'fake' for val in test2]\n",
    "\n",
    "print(customer_df)\n",
    "print()\n",
    "print(f\"{'Result 1':25}: {p1}\")\n",
    "print(f\"{'Result 2':25}: {p2}\")\n",
    "print(f\"{'Prediction 1 took':25}: {predict_stop-predict_start}\")\n",
    "print(f\"{'Prediction 2 took':25}: {predict2_stop-predict2_start}\")"
   ]
  },
  {
   "cell_type": "code",
   "execution_count": null,
   "metadata": {},
   "outputs": [],
   "source": []
  }
 ]
}